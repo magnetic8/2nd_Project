{
 "cells": [
  {
   "cell_type": "code",
   "execution_count": 5,
   "metadata": {},
   "outputs": [],
   "source": [
    "from wordcloud import WordCloud\n",
    "from PIL import Image\n",
    "import numpy as np\n",
    "import os, json\n",
    "\n",
    "def openJson(JsonPath):\n",
    "    with open(JsonPath, 'r', encoding='utf-8') as f:\n",
    "        JsonData = json.load(f)\n",
    "    return JsonData\n",
    "\n",
    "def ele_WordCloud():\n",
    "    fontPath =  r'C:\\Users\\evil8\\AppData\\Local\\Microsoft\\Windows\\Fonts\\NanumBarunGothicBold.ttf'\n",
    "    mask = Image.new(\"RGBA\", (500, 800), (255, 255, 255))\n",
    "    image = Image.open('C:\\Final_Project_Files\\maskf.png').convert(\"RGBA\").resize((500, 800))\n",
    "    mask.paste(image,(0,0,image.size[0], image.size[1]),image)\n",
    "    mask = np.array(mask)\n",
    "    return fontPath,mask\n",
    "\n",
    "def make_WordCloud(fontPath, mask, keywords, ReviewPath, files):\n",
    "    Wc = WordCloud(\n",
    "                max_font_size=300, font_path=fontPath, \n",
    "                background_color='white', mask=mask,\n",
    "                ).generate_from_frequencies(keywords)\n",
    "            \n",
    "    # plt.figure(figsize=(5, 5))\n",
    "    # plt.tight_layout(pad=0)\n",
    "    # plt.axis('off')\n",
    "    # plt.imshow(Wc, interpolation='bilinear')\n",
    "    # plt.savefig('pltTest.png', format='png')\n",
    "    Wc.to_file(os.path.join(ReviewPath, f'{files}_WordCloud.png'))\n",
    "\n",
    "finaltemp = r'C:\\Final_Project_Files\\finalTemp'\n",
    "fontPath, mask = ele_WordCloud()\n",
    "\n",
    "for idx, val in enumerate(os.listdir(finaltemp)):\n",
    "    if val.endswith(\".json\"):\n",
    "        jsonData = openJson(os.path.join(finaltemp, val))\n",
    "        make_WordCloud(fontPath, mask, jsonData, finaltemp, idx)\n",
    "\n"
   ]
  }
 ],
 "metadata": {
  "kernelspec": {
   "display_name": "crawlTest",
   "language": "python",
   "name": "python3"
  },
  "language_info": {
   "codemirror_mode": {
    "name": "ipython",
    "version": 3
   },
   "file_extension": ".py",
   "mimetype": "text/x-python",
   "name": "python",
   "nbconvert_exporter": "python",
   "pygments_lexer": "ipython3",
   "version": "3.9.12"
  },
  "orig_nbformat": 4,
  "vscode": {
   "interpreter": {
    "hash": "ea26e6342df45862fc196a077d40b3288eb349eea5612e69739ee717148a87f9"
   }
  }
 },
 "nbformat": 4,
 "nbformat_minor": 2
}
